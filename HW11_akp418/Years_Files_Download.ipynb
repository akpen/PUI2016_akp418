{
 "cells": [
  {
   "cell_type": "markdown",
   "metadata": {},
   "source": [
    "#### Downloading the files"
   ]
  },
  {
   "cell_type": "code",
   "execution_count": 4,
   "metadata": {
    "collapsed": false
   },
   "outputs": [
    {
     "name": "stdout",
     "output_type": "stream",
     "text": [
      "--2016-11-29 15:37:29--  ftp://ftp.census.gov/Econ2001_And_Earlier/CBP_CSV/zbp00totals.zip\n",
      "           => “zbp00totals.zip”\n",
      "Resolving ftp.census.gov... 148.129.75.35, 2610:20:2010:a09:1000:0:9481:4b23\n",
      "Connecting to ftp.census.gov|148.129.75.35|:21... connected.\n",
      "Logging in as anonymous ... Logged in!\n",
      "==> SYST ... done.    ==> PWD ... done.\n",
      "==> TYPE I ... done.  ==> CWD (1) /Econ2001_And_Earlier/CBP_CSV ... done.\n",
      "==> SIZE zbp00totals.zip ... 628434\n",
      "==> PASV ... done.    ==> RETR zbp00totals.zip ... done.\n",
      "Length: 628434 (614K) (unauthoritative)\n",
      "\n",
      "100%[======================================>] 628,434     --.-K/s   in 1.1s    \n",
      "\n",
      "2016-11-29 15:37:31 (566 KB/s) - “zbp00totals.zip” saved [628434]\n",
      "\n",
      "--2016-11-29 15:37:31--  ftp://ftp.census.gov/Econ2001_And_Earlier/CBP_CSV/zbp01totals.zip\n",
      "           => “zbp01totals.zip”\n",
      "Resolving ftp.census.gov... 148.129.75.35, 2610:20:2010:a09:1000:0:9481:4b23\n",
      "Connecting to ftp.census.gov|148.129.75.35|:21... connected.\n",
      "Logging in as anonymous ... Logged in!\n",
      "==> SYST ... done.    ==> PWD ... done.\n",
      "==> TYPE I ... done.  ==> CWD (1) /Econ2001_And_Earlier/CBP_CSV ... done.\n",
      "==> SIZE zbp01totals.zip ... 628815\n",
      "==> PASV ... done.    ==> RETR zbp01totals.zip ... done.\n",
      "Length: 628815 (614K) (unauthoritative)\n",
      "\n",
      "100%[======================================>] 628,815     2.07M/s   in 0.3s    \n",
      "\n",
      "2016-11-29 15:37:32 (2.07 MB/s) - “zbp01totals.zip” saved [628815]\n",
      "\n"
     ]
    }
   ],
   "source": [
    "!for ((y=0; y<=1; y+=1)); do wget ftp://ftp.census.gov/Econ2001_And_Earlier/CBP_CSV/zbp0$y\\totals.zip; done"
   ]
  }
 ],
 "metadata": {
  "kernelspec": {
   "display_name": "PUI2016_Python2",
   "language": "python",
   "name": "pui2016_python2"
  },
  "language_info": {
   "codemirror_mode": {
    "name": "ipython",
    "version": 2
   },
   "file_extension": ".py",
   "mimetype": "text/x-python",
   "name": "python",
   "nbconvert_exporter": "python",
   "pygments_lexer": "ipython2",
   "version": "2.7.12"
  }
 },
 "nbformat": 4,
 "nbformat_minor": 0
}
